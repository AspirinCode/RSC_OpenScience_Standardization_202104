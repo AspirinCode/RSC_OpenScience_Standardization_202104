{
 "cells": [
  {
   "cell_type": "markdown",
   "id": "aad06c61",
   "metadata": {},
   "source": [
    "# Look at some compounds from PubChem Substance"
   ]
  },
  {
   "cell_type": "code",
   "execution_count": 1,
   "id": "8c00690f",
   "metadata": {
    "scrolled": true
   },
   "outputs": [
    {
     "name": "stdout",
     "output_type": "stream",
     "text": [
      "2021.03.1\n"
     ]
    }
   ],
   "source": [
    "from rdkit import Chem\n",
    "from rdkit.Chem import Draw\n",
    "from rdkit.Chem.Draw import IPythonConsole\n",
    "import rdkit\n",
    "print(rdkit.__version__)"
   ]
  },
  {
   "cell_type": "code",
   "execution_count": 13,
   "id": "599d9597",
   "metadata": {
    "scrolled": true
   },
   "outputs": [
    {
     "name": "stderr",
     "output_type": "stream",
     "text": [
      "RDKit ERROR: [15:34:30] Explicit valence for atom # 8 N, 4, is greater than permitted\n",
      "RDKit ERROR: [15:34:30] Explicit valence for atom # 8 N, 4, is greater than permitted\n",
      "RDKit ERROR: [15:34:30] Explicit valence for atom # 6 N, 4, is greater than permitted\n",
      "RDKit ERROR: [15:34:30] Explicit valence for atom # 6 N, 4, is greater than permitted\n",
      "RDKit ERROR: [15:34:30] Explicit valence for atom # 17 H, 2, is greater than permitted\n",
      "RDKit ERROR: [15:34:30] Explicit valence for atom # 7 N, 4, is greater than permitted\n",
      "RDKit ERROR: [15:34:30] Explicit valence for atom # 11 N, 4, is greater than permitted\n",
      "RDKit ERROR: [15:34:30] Explicit valence for atom # 17 N, 4, is greater than permitted\n",
      "RDKit ERROR: [15:34:30] Explicit valence for atom # 8 N, 4, is greater than permitted\n",
      "RDKit ERROR: [15:34:30] Explicit valence for atom # 8 N, 4, is greater than permitted\n",
      "RDKit ERROR: [15:34:30] Explicit valence for atom # 8 N, 4, is greater than permitted\n",
      "RDKit ERROR: [15:34:30] Explicit valence for atom # 8 N, 4, is greater than permitted\n",
      "RDKit ERROR: [15:34:30] Explicit valence for atom # 8 N, 4, is greater than permitted\n",
      "RDKit ERROR: [15:34:30] Explicit valence for atom # 8 N, 4, is greater than permitted\n",
      "RDKit ERROR: [15:34:30] Explicit valence for atom # 8 N, 4, is greater than permitted\n",
      "RDKit ERROR: [15:34:30] Explicit valence for atom # 8 N, 4, is greater than permitted\n",
      "RDKit ERROR: [15:34:30] Explicit valence for atom # 8 N, 4, is greater than permitted\n",
      "RDKit ERROR: [15:34:30] Explicit valence for atom # 9 N, 4, is greater than permitted\n",
      "RDKit ERROR: [15:34:30] Explicit valence for atom # 8 N, 4, is greater than permitted\n",
      "RDKit ERROR: [15:34:30] Explicit valence for atom # 5 N, 4, is greater than permitted\n",
      "RDKit ERROR: [15:34:30] Explicit valence for atom # 5 N, 4, is greater than permitted\n",
      "RDKit ERROR: [15:34:30] Explicit valence for atom # 5 N, 4, is greater than permitted\n",
      "RDKit ERROR: [15:34:30] Explicit valence for atom # 6 N, 4, is greater than permitted\n",
      "RDKit ERROR: [15:34:30] Explicit valence for atom # 8 N, 4, is greater than permitted\n",
      "RDKit ERROR: [15:34:30] Explicit valence for atom # 6 N, 4, is greater than permitted\n",
      "RDKit ERROR: [15:34:30] Explicit valence for atom # 6 N, 4, is greater than permitted\n",
      "RDKit ERROR: [15:34:30] Explicit valence for atom # 3 O, 3, is greater than permitted\n",
      "RDKit ERROR: [15:34:30] Explicit valence for atom # 3 O, 3, is greater than permitted\n",
      "RDKit ERROR: [15:34:30] Explicit valence for atom # 3 O, 3, is greater than permitted\n",
      "RDKit ERROR: [15:34:30] Explicit valence for atom # 3 O, 3, is greater than permitted\n",
      "RDKit ERROR: [15:34:30] Explicit valence for atom # 3 O, 3, is greater than permitted\n",
      "RDKit ERROR: [15:34:30] Explicit valence for atom # 3 O, 3, is greater than permitted\n",
      "RDKit ERROR: [15:34:30] Explicit valence for atom # 3 O, 3, is greater than permitted\n",
      "RDKit ERROR: [15:34:30] Explicit valence for atom # 3 O, 3, is greater than permitted\n",
      "RDKit ERROR: [15:34:30] Explicit valence for atom # 4 O, 3, is greater than permitted\n",
      "RDKit ERROR: [15:34:30] Explicit valence for atom # 3 O, 3, is greater than permitted\n",
      "RDKit ERROR: [15:34:30] Explicit valence for atom # 3 O, 3, is greater than permitted\n",
      "RDKit ERROR: [15:34:30] Explicit valence for atom # 3 O, 3, is greater than permitted\n",
      "RDKit ERROR: [15:34:30] Explicit valence for atom # 3 O, 3, is greater than permitted\n",
      "RDKit ERROR: [15:34:30] Explicit valence for atom # 3 O, 3, is greater than permitted\n",
      "RDKit ERROR: [15:34:30] Explicit valence for atom # 3 O, 3, is greater than permitted\n",
      "RDKit ERROR: [15:34:30] Explicit valence for atom # 3 O, 3, is greater than permitted\n",
      "RDKit ERROR: [15:34:30] Explicit valence for atom # 3 O, 3, is greater than permitted\n",
      "RDKit ERROR: [15:34:30] Explicit valence for atom # 3 O, 3, is greater than permitted\n",
      "RDKit ERROR: [15:34:30] Explicit valence for atom # 3 O, 3, is greater than permitted\n",
      "RDKit ERROR: [15:34:30] Explicit valence for atom # 3 O, 3, is greater than permitted\n",
      "RDKit ERROR: [15:34:30] Explicit valence for atom # 3 O, 3, is greater than permitted\n",
      "RDKit ERROR: [15:34:30] Explicit valence for atom # 3 O, 3, is greater than permitted\n",
      "RDKit ERROR: [15:34:30] Explicit valence for atom # 3 O, 3, is greater than permitted\n",
      "RDKit ERROR: [15:34:30] Explicit valence for atom # 3 O, 3, is greater than permitted\n",
      "RDKit ERROR: [15:34:30] Explicit valence for atom # 3 O, 3, is greater than permitted\n",
      "RDKit ERROR: [15:34:30] Explicit valence for atom # 3 O, 3, is greater than permitted\n",
      "RDKit ERROR: [15:34:30] Explicit valence for atom # 3 O, 3, is greater than permitted\n",
      "RDKit ERROR: [15:34:30] Explicit valence for atom # 3 O, 3, is greater than permitted\n",
      "RDKit ERROR: [15:34:30] Explicit valence for atom # 3 O, 3, is greater than permitted\n",
      "RDKit ERROR: [15:34:30] Explicit valence for atom # 3 O, 3, is greater than permitted\n",
      "RDKit ERROR: [15:34:30] Explicit valence for atom # 3 O, 3, is greater than permitted\n",
      "RDKit ERROR: [15:34:30] Explicit valence for atom # 3 O, 3, is greater than permitted\n",
      "RDKit ERROR: [15:34:30] Explicit valence for atom # 3 O, 3, is greater than permitted\n",
      "RDKit ERROR: [15:34:30] Explicit valence for atom # 3 O, 3, is greater than permitted\n",
      "RDKit ERROR: [15:34:30] Explicit valence for atom # 3 O, 3, is greater than permitted\n",
      "RDKit ERROR: [15:34:30] Explicit valence for atom # 3 O, 3, is greater than permitted\n",
      "RDKit ERROR: [15:34:30] Explicit valence for atom # 24 N, 4, is greater than permitted\n",
      "RDKit ERROR: [15:34:30] Explicit valence for atom # 24 N, 4, is greater than permitted\n",
      "RDKit ERROR: [15:34:30] Explicit valence for atom # 24 N, 4, is greater than permitted\n",
      "RDKit ERROR: [15:34:30] Explicit valence for atom # 24 N, 4, is greater than permitted\n",
      "RDKit ERROR: [15:34:30] Explicit valence for atom # 14 N, 4, is greater than permitted\n",
      "RDKit ERROR: [15:34:30] Explicit valence for atom # 15 N, 4, is greater than permitted\n",
      "RDKit ERROR: [15:34:30] Explicit valence for atom # 14 N, 4, is greater than permitted\n",
      "RDKit ERROR: [15:34:30] Explicit valence for atom # 17 N, 4, is greater than permitted\n",
      "RDKit ERROR: [15:34:30] Explicit valence for atom # 17 N, 4, is greater than permitted\n",
      "RDKit ERROR: [15:34:30] Explicit valence for atom # 15 N, 4, is greater than permitted\n",
      "RDKit ERROR: [15:34:30] Explicit valence for atom # 21 N, 4, is greater than permitted\n",
      "RDKit ERROR: [15:34:30] Explicit valence for atom # 21 N, 4, is greater than permitted\n",
      "RDKit ERROR: [15:34:30] Explicit valence for atom # 14 In, 7, is greater than permitted\n",
      "RDKit ERROR: [15:34:30] Explicit valence for atom # 40 N, 4, is greater than permitted\n",
      "RDKit ERROR: [15:34:30] Explicit valence for atom # 21 N, 4, is greater than permitted\n",
      "RDKit ERROR: [15:34:30] Explicit valence for atom # 26 N, 4, is greater than permitted\n",
      "RDKit ERROR: [15:34:30] Explicit valence for atom # 50 N, 4, is greater than permitted\n",
      "RDKit ERROR: [15:34:30] Explicit valence for atom # 40 N, 4, is greater than permitted\n",
      "RDKit ERROR: [15:34:30] Explicit valence for atom # 2 O, 3, is greater than permitted\n",
      "RDKit ERROR: [15:34:30] Explicit valence for atom # 2 O, 3, is greater than permitted\n",
      "RDKit ERROR: [15:34:30] Explicit valence for atom # 1 O, 3, is greater than permitted\n",
      "RDKit ERROR: [15:34:30] Explicit valence for atom # 4 N, 4, is greater than permitted\n",
      "RDKit ERROR: [15:34:30] Explicit valence for atom # 17 C, 5, is greater than permitted\n",
      "RDKit ERROR: [15:34:30] Explicit valence for atom # 17 C, 5, is greater than permitted\n",
      "RDKit ERROR: [15:34:30] Explicit valence for atom # 11 C, 5, is greater than permitted\n",
      "RDKit ERROR: [15:34:30] Explicit valence for atom # 5 N, 4, is greater than permitted\n",
      "RDKit ERROR: [15:34:30] Explicit valence for atom # 3 O, 3, is greater than permitted\n",
      "RDKit ERROR: [15:34:30] Explicit valence for atom # 1 O, 3, is greater than permitted\n",
      "RDKit ERROR: [15:34:30] Explicit valence for atom # 5 N, 4, is greater than permitted\n",
      "RDKit ERROR: [15:34:30] Explicit valence for atom # 4 N, 4, is greater than permitted\n",
      "RDKit ERROR: [15:34:30] Explicit valence for atom # 5 N, 4, is greater than permitted\n",
      "RDKit ERROR: [15:34:30] Explicit valence for atom # 5 N, 4, is greater than permitted\n",
      "RDKit ERROR: [15:34:30] Explicit valence for atom # 8 N, 4, is greater than permitted\n",
      "RDKit ERROR: [15:34:30] Explicit valence for atom # 8 N, 4, is greater than permitted\n",
      "RDKit ERROR: [15:34:30] Explicit valence for atom # 8 N, 4, is greater than permitted\n",
      "RDKit ERROR: [15:34:30] Explicit valence for atom # 8 N, 4, is greater than permitted\n",
      "RDKit ERROR: [15:34:30] Explicit valence for atom # 6 O, 3, is greater than permitted\n",
      "RDKit ERROR: [15:34:30] Explicit valence for atom # 6 O, 3, is greater than permitted\n",
      "RDKit ERROR: [15:34:30] Explicit valence for atom # 6 O, 3, is greater than permitted\n"
     ]
    },
    {
     "data": {
      "text/plain": [
       "101"
      ]
     },
     "execution_count": 13,
     "metadata": {},
     "output_type": "execute_result"
    }
   ],
   "source": [
    "import gzip\n",
    "with gzip.open('/home/glandrum/T5/Data/Pubchem/Substance_000000001_000500000.sdf.gz') as inf:\n",
    "    supplier = Chem.ForwardSDMolSupplier(inf,sanitize=False)\n",
    "    failed_mols = []\n",
    "    for m in supplier:\n",
    "        cm = Chem.Mol(m)\n",
    "        try:\n",
    "            Chem.SanitizeMol(cm)\n",
    "        except:\n",
    "            failed_mols.append(m)\n",
    "            if len(failed_mols)>100:\n",
    "                break\n",
    "len(failed_mols)"
   ]
  },
  {
   "cell_type": "code",
   "execution_count": 14,
   "id": "bb7c5663",
   "metadata": {},
   "outputs": [],
   "source": [
    "cms = [Chem.Mol(m) for m in failed_mols]\n",
    "for cm in cms:\n",
    "    cm.UpdatePropertyCache(strict=False)\n",
    "    Chem.GetSymmSSSR(cm)"
   ]
  },
  {
   "cell_type": "code",
   "execution_count": 15,
   "id": "503d8c75",
   "metadata": {},
   "outputs": [
    {
     "data": {
      "text/plain": [
       "101"
      ]
     },
     "execution_count": 15,
     "metadata": {},
     "output_type": "execute_result"
    }
   ],
   "source": [
    "len(cms)"
   ]
  },
  {
   "cell_type": "code",
   "execution_count": 16,
   "id": "1233e033",
   "metadata": {},
   "outputs": [
    {
     "data": {
      "image/svg+xml": [
       "<svg xmlns=\"http://www.w3.org/2000/svg\" xmlns:rdkit=\"http://www.rdkit.org/xml\" xmlns:xlink=\"http://www.w3.org/1999/xlink\" version=\"1.1\" baseProfile=\"full\" xml:space=\"preserve\" width=\"450px\" height=\"400px\" viewBox=\"0 0 450 400\">\n",
       "<!-- END OF HEADER -->\n",
       "<rect style=\"opacity:1.0;fill:#FFFFFF;stroke:none\" width=\"450\" height=\"400\" x=\"0\" y=\"0\"> </rect>\n",
       "<path class=\"bond-0 atom-0 atom-1\" d=\"M 105.72,123.845 L 80.1618,128.825\" style=\"fill:none;fill-rule:evenodd;stroke:#000000;stroke-width:2.0px;stroke-linecap:butt;stroke-linejoin:miter;stroke-opacity:1\"/>\n",
       "<path class=\"bond-0 atom-0 atom-1\" d=\"M 80.1618,128.825 L 54.6037,133.804\" style=\"fill:none;fill-rule:evenodd;stroke:#CCCC00;stroke-width:2.0px;stroke-linecap:butt;stroke-linejoin:miter;stroke-opacity:1\"/>\n",
       "<path class=\"bond-1 atom-0 atom-2\" d=\"M 112.394,115.681 L 105.767,97.0011\" style=\"fill:none;fill-rule:evenodd;stroke:#000000;stroke-width:2.0px;stroke-linecap:butt;stroke-linejoin:miter;stroke-opacity:1\"/>\n",
       "<path class=\"bond-1 atom-0 atom-2\" d=\"M 105.767,97.0011 L 99.1396,78.3208\" style=\"fill:none;fill-rule:evenodd;stroke:#CCCC00;stroke-width:2.0px;stroke-linecap:butt;stroke-linejoin:miter;stroke-opacity:1\"/>\n",
       "<path class=\"bond-2 atom-0 atom-3\" d=\"M 105.629,110.917 L 89.8699,99.2201\" style=\"fill:none;fill-rule:evenodd;stroke:#000000;stroke-width:2.0px;stroke-linecap:butt;stroke-linejoin:miter;stroke-opacity:1\"/>\n",
       "<path class=\"bond-2 atom-0 atom-3\" d=\"M 89.8699,99.2201 L 74.1105,87.5229\" style=\"fill:none;fill-rule:evenodd;stroke:#FF0000;stroke-width:2.0px;stroke-linecap:butt;stroke-linejoin:miter;stroke-opacity:1\"/>\n",
       "<path class=\"bond-2 atom-0 atom-3\" d=\"M 101.348,116.685 L 85.5888,104.988\" style=\"fill:none;fill-rule:evenodd;stroke:#000000;stroke-width:2.0px;stroke-linecap:butt;stroke-linejoin:miter;stroke-opacity:1\"/>\n",
       "<path class=\"bond-2 atom-0 atom-3\" d=\"M 85.5888,104.988 L 69.8294,93.2907\" style=\"fill:none;fill-rule:evenodd;stroke:#FF0000;stroke-width:2.0px;stroke-linecap:butt;stroke-linejoin:miter;stroke-opacity:1\"/>\n",
       "<path class=\"bond-3 atom-0 atom-6\" d=\"M 115.17,128.388 L 116.58,146.136\" style=\"fill:none;fill-rule:evenodd;stroke:#000000;stroke-width:2.0px;stroke-linecap:butt;stroke-linejoin:miter;stroke-opacity:1\"/>\n",
       "<path class=\"bond-3 atom-0 atom-6\" d=\"M 116.58,146.136 L 117.989,163.884\" style=\"fill:none;fill-rule:evenodd;stroke:#0000FF;stroke-width:2.0px;stroke-linecap:butt;stroke-linejoin:miter;stroke-opacity:1\"/>\n",
       "<path class=\"bond-4 atom-0 atom-7\" d=\"M 126.388,122.662 L 138.637,123.248\" style=\"fill:none;fill-rule:evenodd;stroke:#000000;stroke-width:2.0px;stroke-linecap:butt;stroke-linejoin:miter;stroke-opacity:1\"/>\n",
       "<path class=\"bond-4 atom-0 atom-7\" d=\"M 138.637,123.248 L 150.887,123.835\" style=\"fill:none;fill-rule:evenodd;stroke:#0000FF;stroke-width:2.0px;stroke-linecap:butt;stroke-linejoin:miter;stroke-opacity:1\"/>\n",
       "<path class=\"bond-5 atom-1 atom-8\" d=\"M 52.1931,140.912 L 56.9209,153.807\" style=\"fill:none;fill-rule:evenodd;stroke:#CCCC00;stroke-width:2.0px;stroke-linecap:butt;stroke-linejoin:miter;stroke-opacity:1\"/>\n",
       "<path class=\"bond-5 atom-1 atom-8\" d=\"M 56.9209,153.807 L 61.6488,166.702\" style=\"fill:none;fill-rule:evenodd;stroke:#000000;stroke-width:2.0px;stroke-linecap:butt;stroke-linejoin:miter;stroke-opacity:1\"/>\n",
       "<path class=\"bond-6 atom-2 atom-10\" d=\"M 100.814,72.1078 L 113.216,73.0258\" style=\"fill:none;fill-rule:evenodd;stroke:#CCCC00;stroke-width:2.0px;stroke-linecap:butt;stroke-linejoin:miter;stroke-opacity:1\"/>\n",
       "<path class=\"bond-6 atom-2 atom-10\" d=\"M 113.216,73.0258 L 125.618,73.9439\" style=\"fill:none;fill-rule:evenodd;stroke:#000000;stroke-width:2.0px;stroke-linecap:butt;stroke-linejoin:miter;stroke-opacity:1\"/>\n",
       "<path class=\"bond-7 atom-18 atom-4\" d=\"M 338.394,251.088 L 335.108,237.894\" style=\"fill:none;fill-rule:evenodd;stroke:#000000;stroke-width:2.0px;stroke-linecap:butt;stroke-linejoin:miter;stroke-opacity:1\"/>\n",
       "<path class=\"bond-7 atom-18 atom-4\" d=\"M 335.108,237.894 L 331.823,224.7\" style=\"fill:none;fill-rule:evenodd;stroke:#FF0000;stroke-width:2.0px;stroke-linecap:butt;stroke-linejoin:miter;stroke-opacity:1\"/>\n",
       "<path class=\"bond-8 atom-5 atom-44\" d=\"M 139.605,361.88 L 151.369,355.093\" style=\"fill:none;fill-rule:evenodd;stroke:#FF0000;stroke-width:2.0px;stroke-linecap:butt;stroke-linejoin:miter;stroke-opacity:1\"/>\n",
       "<path class=\"bond-8 atom-5 atom-44\" d=\"M 151.369,355.093 L 163.134,348.305\" style=\"fill:none;fill-rule:evenodd;stroke:#000000;stroke-width:2.0px;stroke-linecap:butt;stroke-linejoin:miter;stroke-opacity:1\"/>\n",
       "<path class=\"bond-8 atom-5 atom-44\" d=\"M 136.015,355.659 L 147.779,348.871\" style=\"fill:none;fill-rule:evenodd;stroke:#FF0000;stroke-width:2.0px;stroke-linecap:butt;stroke-linejoin:miter;stroke-opacity:1\"/>\n",
       "<path class=\"bond-8 atom-5 atom-44\" d=\"M 147.779,348.871 L 159.544,342.083\" style=\"fill:none;fill-rule:evenodd;stroke:#000000;stroke-width:2.0px;stroke-linecap:butt;stroke-linejoin:miter;stroke-opacity:1\"/>\n",
       "<path class=\"bond-9 atom-6 atom-9\" d=\"M 113.78,171.537 L 100.187,175.95\" style=\"fill:none;fill-rule:evenodd;stroke:#0000FF;stroke-width:2.0px;stroke-linecap:butt;stroke-linejoin:miter;stroke-opacity:1\"/>\n",
       "<path class=\"bond-9 atom-6 atom-9\" d=\"M 100.187,175.95 L 86.5928,180.362\" style=\"fill:none;fill-rule:evenodd;stroke:#000000;stroke-width:2.0px;stroke-linecap:butt;stroke-linejoin:miter;stroke-opacity:1\"/>\n",
       "<path class=\"bond-10 atom-6 atom-11\" d=\"M 123.171,171.541 L 136.761,175.961\" style=\"fill:none;fill-rule:evenodd;stroke:#0000FF;stroke-width:2.0px;stroke-linecap:butt;stroke-linejoin:miter;stroke-opacity:1\"/>\n",
       "<path class=\"bond-10 atom-6 atom-11\" d=\"M 136.761,175.961 L 150.351,180.381\" style=\"fill:none;fill-rule:evenodd;stroke:#000000;stroke-width:2.0px;stroke-linecap:butt;stroke-linejoin:miter;stroke-opacity:1\"/>\n",
       "<path class=\"bond-11 atom-6 atom-14\" d=\"M 118.474,175.937 L 118.47,189.736\" style=\"fill:none;fill-rule:evenodd;stroke:#0000FF;stroke-width:2.0px;stroke-linecap:butt;stroke-linejoin:miter;stroke-opacity:1\"/>\n",
       "<path class=\"bond-11 atom-6 atom-14\" d=\"M 118.47,189.736 L 118.466,203.534\" style=\"fill:none;fill-rule:evenodd;stroke:#000000;stroke-width:2.0px;stroke-linecap:butt;stroke-linejoin:miter;stroke-opacity:1\"/>\n",
       "<path class=\"bond-12 atom-7 atom-12\" d=\"M 154.519,118.173 L 152.448,105.397\" style=\"fill:none;fill-rule:evenodd;stroke:#0000FF;stroke-width:2.0px;stroke-linecap:butt;stroke-linejoin:miter;stroke-opacity:1\"/>\n",
       "<path class=\"bond-12 atom-7 atom-12\" d=\"M 152.448,105.397 L 150.377,92.622\" style=\"fill:none;fill-rule:evenodd;stroke:#000000;stroke-width:2.0px;stroke-linecap:butt;stroke-linejoin:miter;stroke-opacity:1\"/>\n",
       "<path class=\"bond-13 atom-7 atom-13\" d=\"M 158.42,129.956 L 164.241,141.612\" style=\"fill:none;fill-rule:evenodd;stroke:#0000FF;stroke-width:2.0px;stroke-linecap:butt;stroke-linejoin:miter;stroke-opacity:1\"/>\n",
       "<path class=\"bond-13 atom-7 atom-13\" d=\"M 164.241,141.612 L 170.061,153.268\" style=\"fill:none;fill-rule:evenodd;stroke:#000000;stroke-width:2.0px;stroke-linecap:butt;stroke-linejoin:miter;stroke-opacity:1\"/>\n",
       "<path class=\"bond-14 atom-8 atom-9\" d=\"M 61.6488,166.702 L 86.5928,180.362\" style=\"fill:none;fill-rule:evenodd;stroke:#000000;stroke-width:2.0px;stroke-linecap:butt;stroke-linejoin:miter;stroke-opacity:1\"/>\n",
       "<path class=\"bond-15 atom-8 atom-24\" d=\"M 61.6488,166.702 L 50.611,207.896\" style=\"fill:none;fill-rule:evenodd;stroke:#000000;stroke-width:2.0px;stroke-linecap:butt;stroke-linejoin:miter;stroke-opacity:1\"/>\n",
       "<path class=\"bond-16 atom-8 atom-25\" d=\"M 61.6488,166.702 L 20.4545,177.74\" style=\"fill:none;fill-rule:evenodd;stroke:#000000;stroke-width:2.0px;stroke-linecap:butt;stroke-linejoin:miter;stroke-opacity:1\"/>\n",
       "<path class=\"bond-17 atom-10 atom-12\" d=\"M 125.618,73.9439 L 150.377,92.622\" style=\"fill:none;fill-rule:evenodd;stroke:#000000;stroke-width:2.0px;stroke-linecap:butt;stroke-linejoin:miter;stroke-opacity:1\"/>\n",
       "<path class=\"bond-18 atom-10 atom-28\" d=\"M 125.618,73.9439 L 161.106,38.4577\" style=\"fill:none;fill-rule:evenodd;stroke:#000000;stroke-width:2.0px;stroke-linecap:butt;stroke-linejoin:miter;stroke-opacity:1\"/>\n",
       "<path class=\"bond-19 atom-10 atom-29\" d=\"M 125.618,73.9439 L 114.58,32.752\" style=\"fill:none;fill-rule:evenodd;stroke:#000000;stroke-width:2.0px;stroke-linecap:butt;stroke-linejoin:miter;stroke-opacity:1\"/>\n",
       "<path class=\"bond-20 atom-11 atom-13\" d=\"M 150.351,180.381 L 170.061,153.268\" style=\"fill:none;fill-rule:evenodd;stroke:#000000;stroke-width:2.0px;stroke-linecap:butt;stroke-linejoin:miter;stroke-opacity:1\"/>\n",
       "<path class=\"bond-21 atom-14 atom-22\" d=\"M 118.466,203.534 L 147.49,220.301\" style=\"fill:none;fill-rule:evenodd;stroke:#000000;stroke-width:2.0px;stroke-linecap:butt;stroke-linejoin:miter;stroke-opacity:1\"/>\n",
       "<path class=\"bond-22 atom-15 atom-16\" d=\"M 306.501,294.956 L 306.511,261.436\" style=\"fill:none;fill-rule:evenodd;stroke:#000000;stroke-width:2.0px;stroke-linecap:butt;stroke-linejoin:miter;stroke-opacity:1\"/>\n",
       "<path class=\"bond-23 atom-15 atom-17\" d=\"M 306.501,294.956 L 277.466,311.709\" style=\"fill:none;fill-rule:evenodd;stroke:#000000;stroke-width:2.0px;stroke-linecap:butt;stroke-linejoin:miter;stroke-opacity:1\"/>\n",
       "<path class=\"bond-24 atom-15 atom-23\" d=\"M 306.501,294.956 L 338.377,305.324\" style=\"fill:none;fill-rule:evenodd;stroke:#000000;stroke-width:2.0px;stroke-linecap:butt;stroke-linejoin:miter;stroke-opacity:1\"/>\n",
       "<path class=\"bond-25 atom-15 atom-46\" d=\"M 306.501,294.956 L 306.501,331.452\" style=\"fill:none;fill-rule:evenodd;stroke:#000000;stroke-width:2.0px;stroke-linecap:butt;stroke-linejoin:miter;stroke-opacity:1\"/>\n",
       "<path class=\"bond-26 atom-16 atom-18\" d=\"M 306.511,261.436 L 338.394,251.088\" style=\"fill:none;fill-rule:evenodd;stroke:#000000;stroke-width:2.0px;stroke-linecap:butt;stroke-linejoin:miter;stroke-opacity:1\"/>\n",
       "<path class=\"bond-27 atom-16 atom-21\" d=\"M 306.511,261.436 L 277.485,244.668\" style=\"fill:none;fill-rule:evenodd;stroke:#000000;stroke-width:2.0px;stroke-linecap:butt;stroke-linejoin:miter;stroke-opacity:1\"/>\n",
       "<path class=\"bond-28 atom-16 atom-32\" d=\"M 306.511,261.436 L 304.181,227.997\" style=\"fill:none;fill-rule:evenodd;stroke:#000000;stroke-width:2.0px;stroke-linecap:butt;stroke-linejoin:miter;stroke-opacity:1\"/>\n",
       "<path class=\"bond-29 atom-17 atom-19\" d=\"M 277.466,311.709 L 248.442,294.94\" style=\"fill:none;fill-rule:evenodd;stroke:#000000;stroke-width:2.0px;stroke-linecap:butt;stroke-linejoin:miter;stroke-opacity:1\"/>\n",
       "<path class=\"bond-30 atom-17 atom-30\" d=\"M 277.466,311.709 L 277.456,345.23\" style=\"fill:none;fill-rule:evenodd;stroke:#000000;stroke-width:2.0px;stroke-linecap:butt;stroke-linejoin:miter;stroke-opacity:1\"/>\n",
       "<path class=\"bond-31 atom-17 atom-47\" d=\"M 277.466,311.709 L 277.466,275.213\" style=\"fill:none;fill-rule:evenodd;stroke:#000000;stroke-width:2.0px;stroke-linecap:butt;stroke-linejoin:miter;stroke-opacity:1\"/>\n",
       "<path class=\"bond-32 atom-18 atom-26\" d=\"M 338.394,251.088 L 358.087,278.21\" style=\"fill:none;fill-rule:evenodd;stroke:#000000;stroke-width:2.0px;stroke-linecap:butt;stroke-linejoin:miter;stroke-opacity:1\"/>\n",
       "<path class=\"bond-33 atom-18 atom-34\" d=\"M 338.394,251.088 L 368.778,236.93\" style=\"fill:none;fill-rule:evenodd;stroke:#000000;stroke-width:2.0px;stroke-linecap:butt;stroke-linejoin:miter;stroke-opacity:1\"/>\n",
       "<path class=\"bond-34 atom-19 atom-20\" d=\"M 248.442,294.94 L 248.451,261.419\" style=\"fill:none;fill-rule:evenodd;stroke:#000000;stroke-width:2.0px;stroke-linecap:butt;stroke-linejoin:miter;stroke-opacity:1\"/>\n",
       "<path class=\"bond-35 atom-19 atom-27\" d=\"M 248.442,294.94 L 219.408,311.69\" style=\"fill:none;fill-rule:evenodd;stroke:#000000;stroke-width:2.0px;stroke-linecap:butt;stroke-linejoin:miter;stroke-opacity:1\"/>\n",
       "<path class=\"bond-35 atom-19 atom-27\" d=\"M 247.676,303.674 L 227.353,315.399\" style=\"fill:none;fill-rule:evenodd;stroke:#000000;stroke-width:2.0px;stroke-linecap:butt;stroke-linejoin:miter;stroke-opacity:1\"/>\n",
       "<path class=\"bond-36 atom-20 atom-21\" d=\"M 248.451,261.419 L 277.485,244.668\" style=\"fill:none;fill-rule:evenodd;stroke:#000000;stroke-width:2.0px;stroke-linecap:butt;stroke-linejoin:miter;stroke-opacity:1\"/>\n",
       "<path class=\"bond-37 atom-20 atom-31\" d=\"M 248.451,261.419 L 205.538,253.839\" style=\"fill:none;fill-rule:evenodd;stroke:#000000;stroke-width:2.0px;stroke-linecap:butt;stroke-linejoin:miter;stroke-opacity:1\"/>\n",
       "<path class=\"bond-38 atom-22 atom-35\" d=\"M 147.49,220.301 L 147.48,253.822\" style=\"fill:none;fill-rule:evenodd;stroke:#000000;stroke-width:2.0px;stroke-linecap:butt;stroke-linejoin:miter;stroke-opacity:1\"/>\n",
       "<path class=\"bond-38 atom-22 atom-35\" d=\"M 154.671,225.332 L 154.665,248.796\" style=\"fill:none;fill-rule:evenodd;stroke:#000000;stroke-width:2.0px;stroke-linecap:butt;stroke-linejoin:miter;stroke-opacity:1\"/>\n",
       "<path class=\"bond-39 atom-22 atom-36\" d=\"M 147.49,220.301 L 176.523,203.551\" style=\"fill:none;fill-rule:evenodd;stroke:#000000;stroke-width:2.0px;stroke-linecap:butt;stroke-linejoin:miter;stroke-opacity:1\"/>\n",
       "<path class=\"bond-40 atom-23 atom-26\" d=\"M 338.377,305.324 L 358.087,278.21\" style=\"fill:none;fill-rule:evenodd;stroke:#000000;stroke-width:2.0px;stroke-linecap:butt;stroke-linejoin:miter;stroke-opacity:1\"/>\n",
       "<path class=\"bond-41 atom-27 atom-33\" d=\"M 219.408,311.69 L 219.396,345.211\" style=\"fill:none;fill-rule:evenodd;stroke:#000000;stroke-width:2.0px;stroke-linecap:butt;stroke-linejoin:miter;stroke-opacity:1\"/>\n",
       "<path class=\"bond-42 atom-27 atom-40\" d=\"M 219.408,311.69 L 190.382,294.923\" style=\"fill:none;fill-rule:evenodd;stroke:#000000;stroke-width:2.0px;stroke-linecap:butt;stroke-linejoin:miter;stroke-opacity:1\"/>\n",
       "<path class=\"bond-43 atom-30 atom-37\" d=\"M 277.456,345.23 L 248.422,361.98\" style=\"fill:none;fill-rule:evenodd;stroke:#000000;stroke-width:2.0px;stroke-linecap:butt;stroke-linejoin:miter;stroke-opacity:1\"/>\n",
       "<path class=\"bond-44 atom-31 atom-38\" d=\"M 205.538,253.839 L 176.504,270.592\" style=\"fill:none;fill-rule:evenodd;stroke:#000000;stroke-width:2.0px;stroke-linecap:butt;stroke-linejoin:miter;stroke-opacity:1\"/>\n",
       "<path class=\"bond-44 atom-31 atom-38\" d=\"M 197.593,250.13 L 177.269,261.857\" style=\"fill:none;fill-rule:evenodd;stroke:#000000;stroke-width:2.0px;stroke-linecap:butt;stroke-linejoin:miter;stroke-opacity:1\"/>\n",
       "<path class=\"bond-45 atom-31 atom-39\" d=\"M 205.538,253.839 L 205.55,220.318\" style=\"fill:none;fill-rule:evenodd;stroke:#000000;stroke-width:2.0px;stroke-linecap:butt;stroke-linejoin:miter;stroke-opacity:1\"/>\n",
       "<path class=\"bond-46 atom-33 atom-37\" d=\"M 219.396,345.211 L 248.422,361.98\" style=\"fill:none;fill-rule:evenodd;stroke:#000000;stroke-width:2.0px;stroke-linecap:butt;stroke-linejoin:miter;stroke-opacity:1\"/>\n",
       "<path class=\"bond-47 atom-33 atom-41\" d=\"M 219.396,345.211 L 190.363,361.964\" style=\"fill:none;fill-rule:evenodd;stroke:#000000;stroke-width:2.0px;stroke-linecap:butt;stroke-linejoin:miter;stroke-opacity:1\"/>\n",
       "<path class=\"bond-47 atom-33 atom-41\" d=\"M 211.451,341.502 L 191.128,353.229\" style=\"fill:none;fill-rule:evenodd;stroke:#000000;stroke-width:2.0px;stroke-linecap:butt;stroke-linejoin:miter;stroke-opacity:1\"/>\n",
       "<path class=\"bond-48 atom-34 atom-42\" d=\"M 368.778,236.93 L 399.162,222.772\" style=\"fill:none;fill-rule:evenodd;stroke:#000000;stroke-width:2.0px;stroke-linecap:butt;stroke-linejoin:miter;stroke-opacity:1\"/>\n",
       "<path class=\"bond-48 atom-34 atom-42\" d=\"M 376.369,241.317 L 397.638,231.407\" style=\"fill:none;fill-rule:evenodd;stroke:#000000;stroke-width:2.0px;stroke-linecap:butt;stroke-linejoin:miter;stroke-opacity:1\"/>\n",
       "<path class=\"bond-48 atom-34 atom-42\" d=\"M 370.301,228.295 L 391.57,218.385\" style=\"fill:none;fill-rule:evenodd;stroke:#000000;stroke-width:2.0px;stroke-linecap:butt;stroke-linejoin:miter;stroke-opacity:1\"/>\n",
       "<path class=\"bond-49 atom-35 atom-38\" d=\"M 147.48,253.822 L 176.504,270.592\" style=\"fill:none;fill-rule:evenodd;stroke:#000000;stroke-width:2.0px;stroke-linecap:butt;stroke-linejoin:miter;stroke-opacity:1\"/>\n",
       "<path class=\"bond-50 atom-36 atom-39\" d=\"M 176.523,203.551 L 205.55,220.318\" style=\"fill:none;fill-rule:evenodd;stroke:#000000;stroke-width:2.0px;stroke-linecap:butt;stroke-linejoin:miter;stroke-opacity:1\"/>\n",
       "<path class=\"bond-50 atom-36 atom-39\" d=\"M 177.284,212.286 L 197.603,224.023\" style=\"fill:none;fill-rule:evenodd;stroke:#000000;stroke-width:2.0px;stroke-linecap:butt;stroke-linejoin:miter;stroke-opacity:1\"/>\n",
       "<path class=\"bond-51 atom-40 atom-43\" d=\"M 190.382,294.923 L 161.348,311.673\" style=\"fill:none;fill-rule:evenodd;stroke:#000000;stroke-width:2.0px;stroke-linecap:butt;stroke-linejoin:miter;stroke-opacity:1\"/>\n",
       "<path class=\"bond-52 atom-41 atom-44\" d=\"M 190.363,361.964 L 161.339,345.194\" style=\"fill:none;fill-rule:evenodd;stroke:#000000;stroke-width:2.0px;stroke-linecap:butt;stroke-linejoin:miter;stroke-opacity:1\"/>\n",
       "<path class=\"bond-53 atom-42 atom-45\" d=\"M 399.162,222.772 L 429.545,208.615\" style=\"fill:none;fill-rule:evenodd;stroke:#000000;stroke-width:2.0px;stroke-linecap:butt;stroke-linejoin:miter;stroke-opacity:1\"/>\n",
       "<path class=\"bond-54 atom-43 atom-44\" d=\"M 161.348,311.673 L 161.339,345.194\" style=\"fill:none;fill-rule:evenodd;stroke:#000000;stroke-width:2.0px;stroke-linecap:butt;stroke-linejoin:miter;stroke-opacity:1\"/>\n",
       "<path class=\"atom-0\" d=\"M 95.6442 121.342 L 97.1138 121.342 L 97.1138 116.327 L 95.4925 116.829 L 95.2744 116.27 L 97.3319 115.35 L 98.0051 115.464 L 98.0051 121.342 L 99.323 121.342 L 99.323 122.101 L 95.6442 122.101 L 95.6442 121.342 \" fill=\"#000000\"/>\n",
       "<path class=\"atom-0\" d=\"M 103.334 118.545 Q 103.95 118.811, 104.301 119.209 Q 104.652 119.598, 104.652 120.261 Q 104.652 120.83, 104.358 121.276 Q 104.064 121.712, 103.533 121.959 Q 103.011 122.196, 102.319 122.196 Q 101.2 122.196, 100.556 121.684 Q 99.9109 121.162, 99.9109 120.261 Q 99.9109 119.712, 100.195 119.304 Q 100.48 118.887, 101.068 118.574 Q 100.631 118.327, 100.394 117.967 Q 100.157 117.597, 100.157 117.028 Q 100.157 116.241, 100.726 115.777 Q 101.305 115.312, 102.281 115.312 Q 103.258 115.312, 103.827 115.777 Q 104.405 116.241, 104.405 117.028 Q 104.405 117.521, 104.13 117.891 Q 103.865 118.251, 103.334 118.545 M 102.281 116.023 Q 101.722 116.023, 101.409 116.289 Q 101.106 116.554, 101.106 117.028 Q 101.106 117.379, 101.314 117.616 Q 101.523 117.844, 101.817 117.976 Q 102.12 118.109, 102.698 118.308 Q 103.106 118.024, 103.277 117.72 Q 103.457 117.417, 103.457 117.028 Q 103.457 116.554, 103.144 116.289 Q 102.841 116.023, 102.281 116.023 M 102.319 121.485 Q 102.945 121.485, 103.324 121.153 Q 103.703 120.811, 103.703 120.252 Q 103.703 119.892, 103.504 119.664 Q 103.305 119.437, 103.002 119.304 Q 102.708 119.171, 102.177 119 L 101.75 118.858 Q 101.276 119.143, 101.068 119.484 Q 100.859 119.816, 100.859 120.252 Q 100.859 120.811, 101.257 121.153 Q 101.655 121.485, 102.319 121.485 \" fill=\"#000000\"/>\n",
       "<path class=\"atom-0\" d=\"M 107.923 117.91 Q 108.511 117.91, 108.975 118.166 Q 109.44 118.422, 109.696 118.887 Q 109.952 119.351, 109.952 119.939 Q 109.952 120.593, 109.658 121.105 Q 109.373 121.608, 108.861 121.892 Q 108.349 122.177, 107.695 122.177 Q 106.501 122.177, 105.894 121.371 Q 105.296 120.555, 105.296 118.943 Q 105.296 117.161, 106.036 116.241 Q 106.785 115.312, 108.217 115.312 Q 108.634 115.312, 108.985 115.407 Q 109.345 115.502, 109.686 115.701 L 109.317 116.336 Q 108.823 116.071, 108.226 116.071 Q 107.278 116.071, 106.794 116.687 Q 106.311 117.294, 106.254 118.555 Q 106.595 118.242, 107.022 118.081 Q 107.458 117.91, 107.923 117.91 M 107.705 121.399 Q 108.065 121.399, 108.359 121.21 Q 108.662 121.02, 108.833 120.688 Q 109.004 120.356, 109.004 119.949 Q 109.004 119.351, 108.672 119.01 Q 108.34 118.669, 107.752 118.669 Q 107.344 118.669, 106.937 118.839 Q 106.538 119, 106.254 119.285 Q 106.292 120.394, 106.643 120.897 Q 106.994 121.399, 107.705 121.399 \" fill=\"#000000\"/>\n",
       "<path class=\"atom-0\" d=\"M 116.661 127.186 L 114.204 123.006 L 114.175 123.006 L 112.552 123.006 L 112.552 127.186 L 111.173 127.186 L 111.173 117.015 L 114.175 117.015 Q 115.914 117.015, 116.79 117.805 Q 117.666 118.581, 117.666 120.003 Q 117.666 121.081, 117.135 121.814 Q 116.618 122.532, 115.598 122.819 L 118.169 127.186 L 116.661 127.186 M 112.552 121.857 L 114.175 121.857 Q 115.167 121.857, 115.698 121.383 Q 116.23 120.908, 116.23 120.003 Q 116.23 119.098, 115.698 118.639 Q 115.181 118.165, 114.175 118.165 L 112.552 118.165 L 112.552 121.857 \" fill=\"#000000\"/>\n",
       "<path class=\"atom-0\" d=\"M 118.83 123.48 Q 118.83 121.67, 119.735 120.679 Q 120.64 119.673, 122.292 119.673 Q 123.915 119.673, 124.634 120.65 Q 125.366 121.612, 125.366 123.437 L 125.366 123.667 L 120.209 123.667 Q 120.238 124.917, 120.798 125.577 Q 121.358 126.238, 122.407 126.238 Q 122.982 126.238, 123.513 126.109 Q 124.045 125.965, 124.691 125.678 L 125.079 126.597 Q 124.346 126.971, 123.686 127.143 Q 123.025 127.301, 122.335 127.301 Q 120.669 127.301, 119.749 126.296 Q 118.83 125.29, 118.83 123.48 M 122.292 120.736 Q 121.445 120.736, 120.927 121.225 Q 120.425 121.713, 120.267 122.661 L 123.944 122.661 Q 123.844 121.67, 123.441 121.21 Q 123.039 120.736, 122.292 120.736 \" fill=\"#000000\"/>\n",
       "<path class=\"atom-1\" d=\"M 47.0482 138.207 Q 47.1632 138.251, 47.6372 138.452 Q 48.1113 138.653, 48.6285 138.782 Q 49.16 138.897, 49.6772 138.897 Q 50.6397 138.897, 51.2 138.437 Q 51.7603 137.963, 51.7603 137.144 Q 51.7603 136.584, 51.4729 136.239 Q 51.2 135.895, 50.769 135.708 Q 50.338 135.521, 49.6197 135.306 Q 48.7147 135.033, 48.1688 134.774 Q 47.6372 134.515, 47.2494 133.969 Q 46.8759 133.424, 46.8759 132.504 Q 46.8759 131.226, 47.7378 130.435 Q 48.6141 129.645, 50.338 129.645 Q 51.516 129.645, 52.8521 130.206 L 52.5217 131.312 Q 51.3006 130.809, 50.3811 130.809 Q 49.3899 130.809, 48.844 131.226 Q 48.2981 131.628, 48.3124 132.332 Q 48.3124 132.878, 48.5854 133.208 Q 48.8727 133.538, 49.275 133.725 Q 49.6916 133.912, 50.3811 134.128 Q 51.3006 134.415, 51.8465 134.702 Q 52.3924 134.989, 52.7802 135.578 Q 53.1825 136.153, 53.1825 137.144 Q 53.1825 138.552, 52.2343 139.314 Q 51.3006 140.061, 49.7347 140.061 Q 48.8296 140.061, 48.1401 139.86 Q 47.4649 139.673, 46.6604 139.342 L 47.0482 138.207 \" fill=\"#CCCC00\"/>\n",
       "<path class=\"atom-2\" d=\"M 93.9577 75.3039 Q 94.0727 75.347, 94.5467 75.5481 Q 95.0208 75.7492, 95.538 75.8785 Q 96.0695 75.9934, 96.5867 75.9934 Q 97.5492 75.9934, 98.1095 75.5337 Q 98.6698 75.0597, 98.6698 74.2408 Q 98.6698 73.6805, 98.3824 73.3357 Q 98.1095 72.991, 97.6785 72.8042 Q 97.2475 72.6175, 96.5292 72.402 Q 95.6242 72.129, 95.0783 71.8704 Q 94.5467 71.6118, 94.1589 71.0659 Q 93.7853 70.52, 93.7853 69.6006 Q 93.7853 68.322, 94.6473 67.5319 Q 95.5236 66.7418, 97.2475 66.7418 Q 98.4255 66.7418, 99.7616 67.3021 L 99.4311 68.4082 Q 98.21 67.9054, 97.2906 67.9054 Q 96.2994 67.9054, 95.7535 68.322 Q 95.2076 68.7243, 95.2219 69.4282 Q 95.2219 69.9741, 95.4949 70.3045 Q 95.7822 70.635, 96.1845 70.8217 Q 96.6011 71.0085, 97.2906 71.224 Q 98.21 71.5113, 98.756 71.7986 Q 99.3019 72.0859, 99.6897 72.6749 Q 100.092 73.2496, 100.092 74.2408 Q 100.092 75.6487, 99.1438 76.4101 Q 98.21 77.1571, 96.6442 77.1571 Q 95.7391 77.1571, 95.0495 76.956 Q 94.3743 76.7692, 93.5699 76.4388 L 93.9577 75.3039 \" fill=\"#CCCC00\"/>\n",
       "<path class=\"atom-3\" d=\"M 61.4692 86.107 Q 61.4692 83.6648, 62.676 82.3001 Q 63.8827 80.9353, 66.1381 80.9353 Q 68.3936 80.9353, 69.6003 82.3001 Q 70.8071 83.6648, 70.8071 86.107 Q 70.8071 88.578, 69.586 89.9858 Q 68.3649 91.3793, 66.1381 91.3793 Q 63.8971 91.3793, 62.676 89.9858 Q 61.4692 88.5923, 61.4692 86.107 M 66.1381 90.2301 Q 67.6897 90.2301, 68.5229 89.1957 Q 69.3705 88.147, 69.3705 86.107 Q 69.3705 84.1102, 68.5229 83.1046 Q 67.6897 82.0846, 66.1381 82.0846 Q 64.5866 82.0846, 63.739 83.0902 Q 62.9058 84.0958, 62.9058 86.107 Q 62.9058 88.1614, 63.739 89.1957 Q 64.5866 90.2301, 66.1381 90.2301 \" fill=\"#FF0000\"/>\n",
       "<path class=\"atom-4\" d=\"M 325.625 218.589 Q 325.625 216.147, 326.832 214.783 Q 328.038 213.418, 330.294 213.418 Q 332.549 213.418, 333.756 214.783 Q 334.963 216.147, 334.963 218.589 Q 334.963 221.06, 333.742 222.468 Q 332.52 223.862, 330.294 223.862 Q 328.053 223.862, 326.832 222.468 Q 325.625 221.075, 325.625 218.589 M 330.294 222.713 Q 331.845 222.713, 332.679 221.678 Q 333.526 220.629, 333.526 218.589 Q 333.526 216.593, 332.679 215.587 Q 331.845 214.567, 330.294 214.567 Q 328.742 214.567, 327.895 215.573 Q 327.061 216.578, 327.061 218.589 Q 327.061 220.644, 327.895 221.678 Q 328.742 222.713, 330.294 222.713 \" fill=\"#FF0000\"/>\n",
       "<path class=\"atom-4\" d=\"M 336.184 213.533 L 337.563 213.533 L 337.563 217.857 L 342.763 217.857 L 342.763 213.533 L 344.142 213.533 L 344.142 223.704 L 342.763 223.704 L 342.763 219.006 L 337.563 219.006 L 337.563 223.704 L 336.184 223.704 L 336.184 213.533 \" fill=\"#FF0000\"/>\n",
       "<path class=\"atom-5\" d=\"M 127.634 361.976 Q 127.634 359.533, 128.841 358.169 Q 130.047 356.804, 132.303 356.804 Q 134.558 356.804, 135.765 358.169 Q 136.972 359.533, 136.972 361.976 Q 136.972 364.447, 135.751 365.854 Q 134.529 367.248, 132.303 367.248 Q 130.062 367.248, 128.841 365.854 Q 127.634 364.461, 127.634 361.976 M 132.303 366.099 Q 133.854 366.099, 134.687 365.064 Q 135.535 364.016, 135.535 361.976 Q 135.535 359.979, 134.687 358.973 Q 133.854 357.953, 132.303 357.953 Q 130.751 357.953, 129.904 358.959 Q 129.07 359.964, 129.07 361.976 Q 129.07 364.03, 129.904 365.064 Q 130.751 366.099, 132.303 366.099 \" fill=\"#FF0000\"/>\n",
       "<path class=\"atom-6\" d=\"M 116.227 164.928 L 119.56 170.315 Q 119.891 170.847, 120.422 171.809 Q 120.954 172.772, 120.982 172.829 L 120.982 164.928 L 122.333 164.928 L 122.333 175.099 L 120.939 175.099 L 117.362 169.209 Q 116.946 168.519, 116.5 167.729 Q 116.069 166.939, 115.94 166.695 L 115.94 175.099 L 114.618 175.099 L 114.618 164.928 L 116.227 164.928 \" fill=\"#0000FF\"/>\n",
       "<path class=\"atom-7\" d=\"M 153.224 118.969 L 156.557 124.356 Q 156.888 124.888, 157.419 125.85 Q 157.951 126.813, 157.979 126.87 L 157.979 118.969 L 159.33 118.969 L 159.33 129.14 L 157.936 129.14 L 154.359 123.25 Q 153.943 122.561, 153.497 121.77 Q 153.066 120.98, 152.937 120.736 L 152.937 129.14 L 151.615 129.14 L 151.615 118.969 L 153.224 118.969 \" fill=\"#0000FF\"/>\n",
       "<path class=\"atom-46\" d=\"M 302.522 332.518 L 303.901 332.518 L 303.901 336.843 L 309.102 336.843 L 309.102 332.518 L 310.481 332.518 L 310.481 342.689 L 309.102 342.689 L 309.102 337.992 L 303.901 337.992 L 303.901 342.689 L 302.522 342.689 L 302.522 332.518 \" fill=\"#000000\"/>\n",
       "<path class=\"atom-47\" d=\"M 273.486 263.976 L 274.865 263.976 L 274.865 268.3 L 280.066 268.3 L 280.066 263.976 L 281.445 263.976 L 281.445 274.147 L 280.066 274.147 L 280.066 269.45 L 274.865 269.45 L 274.865 274.147 L 273.486 274.147 L 273.486 263.976 \" fill=\"#000000\"/>\n",
       "</svg>"
      ],
      "text/plain": [
       "<IPython.core.display.SVG object>"
      ]
     },
     "execution_count": 16,
     "metadata": {},
     "output_type": "execute_result"
    }
   ],
   "source": [
    "show_mol(3,cms)"
   ]
  },
  {
   "cell_type": "code",
   "execution_count": 17,
   "id": "5b282eac",
   "metadata": {},
   "outputs": [
    {
     "data": {
      "application/vnd.jupyter.widget-view+json": {
       "model_id": "c367675d4c9b4f37ac2b40c58075d80e",
       "version_major": 2,
       "version_minor": 0
      },
      "text/plain": [
       "interactive(children=(Dropdown(description='idx', options=(0, 1, 2, 3, 4, 5, 6, 7, 8, 9, 10, 11, 12, 13, 14, 1…"
      ]
     },
     "metadata": {},
     "output_type": "display_data"
    }
   ],
   "source": [
    "from ipywidgets import interact,fixed\n",
    "from rdkit.Chem.Draw import rdMolDraw2D\n",
    "from IPython.display import SVG\n",
    "\n",
    "@interact(idx=range(0,len(cms)),ms=fixed(cms))\n",
    "def show_mol(idx,ms):\n",
    "    d2d = rdMolDraw2D.MolDraw2DSVG(450,400)\n",
    "    d2d.drawOptions().prepareMolsBeforeDrawing=False\n",
    "    d2d.DrawMolecule(ms[idx])\n",
    "    d2d.FinishDrawing()\n",
    "    return SVG(d2d.GetDrawingText())"
   ]
  },
  {
   "cell_type": "code",
   "execution_count": 18,
   "id": "5a8d554e",
   "metadata": {},
   "outputs": [
    {
     "name": "stderr",
     "output_type": "stream",
     "text": [
      "RDKit ERROR: [15:37:09] Explicit valence for atom # 5 N, 4, is greater than permitted\n",
      "RDKit ERROR: [15:37:09] Explicit valence for atom # 5 N, 4, is greater than permitted\n",
      "RDKit ERROR: [15:37:09] Explicit valence for atom # 5 N, 4, is greater than permitted\n",
      "RDKit ERROR: [15:37:09] Explicit valence for atom # 2 N, 4, is greater than permitted\n",
      "RDKit WARNING: [15:37:09] Warning: conflicting stereochemistry at atom 20 ignored. by rule 1a.\n",
      "RDKit WARNING: [15:37:09] Warning: conflicting stereochemistry at atom 20 ignored. by rule 1a.\n",
      "RDKit ERROR: [15:37:09] Explicit valence for atom # 0 Cl, 7, is greater than permitted\n",
      "RDKit ERROR: [15:37:10] Explicit valence for atom # 4 N, 4, is greater than permitted\n",
      "RDKit ERROR: [15:37:12] Explicit valence for atom # 0 O, 3, is greater than permitted\n",
      "RDKit ERROR: [15:37:14] Explicit valence for atom # 0 O, 3, is greater than permitted\n",
      "RDKit ERROR: [15:37:14] Explicit valence for atom # 0 O, 4, is greater than permitted\n",
      "RDKit ERROR: [15:37:15] Explicit valence for atom # 0 B, 5, is greater than permitted\n",
      "RDKit ERROR: [15:37:17] Explicit valence for atom # 0 S, 8, is greater than permitted\n",
      "RDKit ERROR: [15:37:17] Explicit valence for atom # 0 S, 8, is greater than permitted\n",
      "RDKit ERROR: [15:37:17] Explicit valence for atom # 1 S, 8, is greater than permitted\n",
      "RDKit ERROR: [15:37:17] Explicit valence for atom # 0 S, 8, is greater than permitted\n",
      "RDKit ERROR: [15:37:18] Explicit valence for atom # 12 B, 4, is greater than permitted\n",
      "RDKit ERROR: [15:37:21] Explicit valence for atom # 3 N, 5, is greater than permitted\n",
      "RDKit ERROR: [15:37:23] Explicit valence for atom # 2 N, 4, is greater than permitted\n",
      "RDKit ERROR: [15:37:23] Explicit valence for atom # 2 N, 4, is greater than permitted\n",
      "RDKit ERROR: [15:37:23] Explicit valence for atom # 4 N, 4, is greater than permitted\n",
      "RDKit ERROR: [15:37:23] Explicit valence for atom # 2 N, 4, is greater than permitted\n",
      "RDKit ERROR: [15:37:23] Explicit valence for atom # 4 N, 4, is greater than permitted\n",
      "RDKit ERROR: [15:37:23] Explicit valence for atom # 2 N, 4, is greater than permitted\n",
      "RDKit ERROR: [15:37:23] Explicit valence for atom # 4 N, 4, is greater than permitted\n",
      "RDKit ERROR: [15:37:23] Explicit valence for atom # 2 N, 4, is greater than permitted\n",
      "RDKit ERROR: [15:37:24] Explicit valence for atom # 19 N, 4, is greater than permitted\n",
      "RDKit ERROR: [15:37:24] Explicit valence for atom # 0 C, 6, is greater than permitted\n",
      "RDKit ERROR: [15:37:24] Explicit valence for atom # 0 O, 3, is greater than permitted\n",
      "RDKit ERROR: [15:37:25] Explicit valence for atom # 1 O, 3, is greater than permitted\n",
      "RDKit ERROR: [15:37:25] Explicit valence for atom # 1 O, 3, is greater than permitted\n",
      "RDKit ERROR: [15:37:25] Explicit valence for atom # 0 O, 3, is greater than permitted\n",
      "RDKit ERROR: [15:37:26] Explicit valence for atom # 1 O, 3, is greater than permitted\n",
      "RDKit ERROR: [15:37:28] Explicit valence for atom # 3 O, 3, is greater than permitted\n",
      "RDKit ERROR: [15:37:28] Explicit valence for atom # 0 O, 3, is greater than permitted\n",
      "RDKit ERROR: [15:37:28] Explicit valence for atom # 0 O, 3, is greater than permitted\n",
      "RDKit ERROR: [15:37:28] Explicit valence for atom # 1 O, 3, is greater than permitted\n",
      "RDKit ERROR: [15:37:30] Explicit valence for atom # 14 B, 4, is greater than permitted\n",
      "RDKit ERROR: [15:37:30] Explicit valence for atom # 0 O, 3, is greater than permitted\n",
      "RDKit ERROR: [15:37:32] Explicit valence for atom # 1 O, 4, is greater than permitted\n",
      "RDKit ERROR: [15:37:34] Explicit valence for atom # 1 F, 2, is greater than permitted\n",
      "RDKit ERROR: [15:37:35] Explicit valence for atom # 2 C, 6, is greater than permitted\n",
      "RDKit WARNING: [15:37:35] Warning: conflicting stereochemistry at atom 19 ignored. by rule 2b.\n",
      "RDKit ERROR: [15:37:35] Explicit valence for atom # 1 C, 5, is greater than permitted\n",
      "RDKit ERROR: [15:37:35] Explicit valence for atom # 5 C, 6, is greater than permitted\n",
      "RDKit ERROR: [15:37:38] Explicit valence for atom # 0 O, 3, is greater than permitted\n",
      "RDKit ERROR: [15:37:41] Explicit valence for atom # 3 N, 5, is greater than permitted\n",
      "RDKit ERROR: [15:37:41] Explicit valence for atom # 0 Ca, 6, is greater than permitted\n",
      "RDKit ERROR: [15:37:43] Explicit valence for atom # 1 O, 4, is greater than permitted\n",
      "RDKit ERROR: [15:37:43] Explicit valence for atom # 3 O, 4, is greater than permitted\n",
      "RDKit ERROR: [15:37:44] Explicit valence for atom # 0 F, 2, is greater than permitted\n",
      "RDKit ERROR: [15:37:44] Explicit valence for atom # 0 F, 2, is greater than permitted\n",
      "RDKit ERROR: [15:37:44] Explicit valence for atom # 0 F, 2, is greater than permitted\n",
      "RDKit ERROR: [15:37:44] Explicit valence for atom # 0 F, 2, is greater than permitted\n",
      "RDKit ERROR: [15:37:44] Explicit valence for atom # 0 F, 2, is greater than permitted\n",
      "RDKit ERROR: [15:37:45] Explicit valence for atom # 16 N, 4, is greater than permitted\n",
      "RDKit ERROR: [15:37:45] Explicit valence for atom # 0 F, 2, is greater than permitted\n",
      "RDKit ERROR: [15:37:45] Explicit valence for atom # 3 F, 2, is greater than permitted\n",
      "RDKit ERROR: [15:37:45] Explicit valence for atom # 3 F, 2, is greater than permitted\n",
      "RDKit ERROR: [15:37:45] Explicit valence for atom # 6 O, 3, is greater than permitted\n",
      "RDKit ERROR: [15:37:45] Explicit valence for atom # 0 Cl, 2, is greater than permitted\n",
      "RDKit ERROR: [15:37:45] Explicit valence for atom # 11 O, 3, is greater than permitted\n",
      "RDKit ERROR: [15:37:45] Explicit valence for atom # 2 F, 2, is greater than permitted\n",
      "RDKit ERROR: [15:37:45] Explicit valence for atom # 0 O, 3, is greater than permitted\n",
      "RDKit ERROR: [15:37:45] Explicit valence for atom # 0 O, 3, is greater than permitted\n",
      "RDKit ERROR: [15:37:45] Explicit valence for atom # 3 F, 2, is greater than permitted\n",
      "RDKit ERROR: [15:37:46] Explicit valence for atom # 4 N, 4, is greater than permitted\n",
      "RDKit ERROR: [15:37:46] Explicit valence for atom # 1 F, 2, is greater than permitted\n",
      "RDKit ERROR: [15:37:46] Explicit valence for atom # 1 F, 2, is greater than permitted\n",
      "RDKit ERROR: [15:37:46] Explicit valence for atom # 2 O, 3, is greater than permitted\n",
      "RDKit ERROR: [15:37:46] Explicit valence for atom # 3 O, 3, is greater than permitted\n",
      "RDKit ERROR: [15:37:46] Explicit valence for atom # 0 Cl, 2, is greater than permitted\n",
      "RDKit ERROR: [15:37:46] Explicit valence for atom # 0 F, 2, is greater than permitted\n",
      "RDKit ERROR: [15:37:46] Explicit valence for atom # 0 F, 2, is greater than permitted\n",
      "RDKit ERROR: [15:37:47] Explicit valence for atom # 4 O, 3, is greater than permitted\n",
      "RDKit ERROR: [15:37:47] Explicit valence for atom # 4 O, 3, is greater than permitted\n",
      "RDKit ERROR: [15:37:47] Explicit valence for atom # 6 O, 3, is greater than permitted\n"
     ]
    },
    {
     "data": {
      "text/plain": [
       "74"
      ]
     },
     "execution_count": 18,
     "metadata": {},
     "output_type": "execute_result"
    }
   ],
   "source": [
    "badAtoms = Chem.MolFromSmarts('[!$([#1,#3,#11,#19,#4,#12,#20,#5,#6,#14,#7,#15,#8,#16,#9,#17,#35,#53])]')\n",
    "\n",
    "import gzip\n",
    "with gzip.open('/home/glandrum/T5/Data/Pubchem/Substance_000000001_000500000.sdf.gz') as inf:\n",
    "    supplier = Chem.ForwardSDMolSupplier(inf,sanitize=False)\n",
    "    failed_mols = []\n",
    "    for m in supplier:\n",
    "        cm = Chem.Mol(m)\n",
    "        if cm.HasSubstructMatch(badAtoms):\n",
    "            continue\n",
    "        try:\n",
    "            Chem.SanitizeMol(cm)\n",
    "        except:\n",
    "            failed_mols.append(m)\n",
    "            if len(failed_mols)>100:\n",
    "                break\n",
    "len(failed_mols)"
   ]
  },
  {
   "cell_type": "code",
   "execution_count": 24,
   "id": "92b3b78f",
   "metadata": {},
   "outputs": [
    {
     "name": "stderr",
     "output_type": "stream",
     "text": [
      "RDKit ERROR: [15:42:40] Explicit valence for atom # 1 O, 3, is greater than permitted\n"
     ]
    }
   ],
   "source": [
    "#from rdkit import RDLogging\n",
    "from rdkit import RDLogger\n",
    "RDLogger.EnableLog('rdApp.*')\n",
    "Chem.MolFromSmiles('CO(C)C')"
   ]
  },
  {
   "cell_type": "code",
   "execution_count": 19,
   "id": "1d5d6c36",
   "metadata": {
    "scrolled": false
   },
   "outputs": [
    {
     "name": "stderr",
     "output_type": "stream",
     "text": [
      "RDKit WARNING: [15:37:50] WARNING: could not find number of expected rings. Switching to an approximate ring finding algorithm.\n",
      "RDKit WARNING: [15:37:50] WARNING: could not find number of expected rings. Switching to an approximate ring finding algorithm.\n",
      "RDKit WARNING: [15:37:50] WARNING: could not find number of expected rings. Switching to an approximate ring finding algorithm.\n"
     ]
    }
   ],
   "source": [
    "cms = [Chem.Mol(m) for m in failed_mols]\n",
    "for cm in cms:\n",
    "    cm.UpdatePropertyCache(strict=False)\n",
    "    Chem.GetSymmSSSR(cm)"
   ]
  },
  {
   "cell_type": "code",
   "execution_count": 20,
   "id": "f79a978a",
   "metadata": {},
   "outputs": [
    {
     "data": {
      "application/vnd.jupyter.widget-view+json": {
       "model_id": "c2ba02344ce74577b38f428c9df1ef35",
       "version_major": 2,
       "version_minor": 0
      },
      "text/plain": [
       "interactive(children=(Dropdown(description='idx', options=(0, 1, 2, 3, 4, 5, 6, 7, 8, 9, 10, 11, 12, 13, 14, 1…"
      ]
     },
     "metadata": {},
     "output_type": "display_data"
    }
   ],
   "source": [
    "from ipywidgets import interact,fixed\n",
    "from rdkit.Chem.Draw import rdMolDraw2D\n",
    "from IPython.display import SVG\n",
    "@interact(idx=range(0,len(cms)),ms=fixed(cms))\n",
    "def show_mol(idx,ms):\n",
    "    d2d = rdMolDraw2D.MolDraw2DSVG(450,400)\n",
    "    d2d.drawOptions().prepareMolsBeforeDrawing=False\n",
    "    d2d.DrawMolecule(ms[idx])\n",
    "    d2d.FinishDrawing()\n",
    "    return SVG(d2d.GetDrawingText())"
   ]
  },
  {
   "cell_type": "code",
   "execution_count": null,
   "id": "3351d6e6",
   "metadata": {},
   "outputs": [],
   "source": []
  }
 ],
 "metadata": {
  "kernelspec": {
   "display_name": "Python 3",
   "language": "python",
   "name": "python3"
  },
  "language_info": {
   "codemirror_mode": {
    "name": "ipython",
    "version": 3
   },
   "file_extension": ".py",
   "mimetype": "text/x-python",
   "name": "python",
   "nbconvert_exporter": "python",
   "pygments_lexer": "ipython3",
   "version": "3.9.1"
  },
  "toc": {
   "base_numbering": 1,
   "nav_menu": {},
   "number_sections": true,
   "sideBar": true,
   "skip_h1_title": false,
   "title_cell": "Table of Contents",
   "title_sidebar": "Contents",
   "toc_cell": false,
   "toc_position": {},
   "toc_section_display": true,
   "toc_window_display": false
  }
 },
 "nbformat": 4,
 "nbformat_minor": 5
}
